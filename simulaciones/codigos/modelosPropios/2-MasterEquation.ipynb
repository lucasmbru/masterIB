{
 "cells": [
  {
   "cell_type": "markdown",
   "metadata": {},
   "source": [
    "# Ecuación Maestra para la evolución de la población"
   ]
  },
  {
   "cell_type": "markdown",
   "metadata": {},
   "source": [
    "## Obtención de la Ecuación Maestra"
   ]
  },
  {
   "cell_type": "markdown",
   "metadata": {},
   "source": [
    "Dada un sistema como el descripto en el archivo `1-populationEvolution.ipynb`, para hallar la dinámica de la distribución de la probabilidad $P(n, t)$ de la cantidad de individuos $A$ en el sistema, tenemos que, tal como hallamos en dicho archivo, las tasas de transición $T(n'|n)$ son:\n",
    "\n",
    "$$T(n+1|n) = up_\\alpha \\frac{N-n}{N} + (1-u) p_\\nu \\frac{n}{N}\\frac{N-n}{N-1},$$\n",
    "\n",
    "$$T(n-1|n) = u p_\\mu \\frac{n}{N}$$"
   ]
  },
  {
   "cell_type": "markdown",
   "metadata": {},
   "source": [
    "Luego, la ecuación maestra para un paso de tiempo $t_m$ hacia $t_{m+1}$ es\n",
    "\n",
    "$$P(n, t_{m+1}) - P(n, t_m) = T(n|n+1)P(n+1, t_m) + T(n|n-1)P(n-1, t_m) - \\left(T(n+1|n) - T(n-1|n)\\right) P(n, t_m),$$\n",
    "de modo que reemplazando con las expresiones\n",
    "\n",
    "$$P(n, t_{m+1}) - P(n, t_m) = u p_\\mu \\frac{n+1}{N} P(n+1, t_m) + \\left( up_\\alpha \\frac{N-n+1}{N} + (1-u) p_\\nu \\frac{n-1}{N}\\frac{N-n+1}{N-1} \\right) P(n-1, t_m) - \\\\\n",
    "\n",
    "- \\left\\{ up_\\alpha \\frac{N-n}{N} + (1-u) p_\\nu \\frac{n}{N}\\frac{N-n}{N-1} + u p_\\mu \\frac{n}{N} \\right\\} P(n, t_m)$$\n",
    "\n",
    "Hacemos ahora la identificación para los pasos de tiempo\n",
    "\n",
    "$$t_m \\rightarrow t,$$\n",
    "$$t_{m+1} \\rightarrow t+\\delta t,$$\n",
    "\n",
    "donde $\\delta t$ es el paso de tiempo de Monte Carlo."
   ]
  },
  {
   "cell_type": "markdown",
   "metadata": {},
   "source": [
    "\n",
    "\n",
    "De modo que, ahora podemos denotar al cambio de la probabilidad como\n",
    "\n",
    "$$P(n, t_{m+1}) - P(n, t_m) = P(n, t+\\delta t) - P(n, t) = P(n, t) + \\partial_t P(n, t) \\delta t- P(n, t) = \\partial_t P(n, t) \\delta t,$$\n",
    "\n",
    "para $\\delta t$ suficientemente chico. Dado que el lado izquierdo de la igualdad de la Ec. (ref) es del orden de $\\delta t$, el lado derecho de la misma debe tener el mismo orden. Para ello, tomaremos las probabilidades $p_\\alpha, p_\\mu, p\\nu$ de este orden, de modo que\n",
    "$$p_x = \\Gamma_x \\delta t,$$\n",
    "donde $\\Gamma_x$ es la tasa o la frecuencia a la que ocurre el evento. \n",
    "A su vez, se debe tener en cuenta que el paso de tiempo de Monte Carlo no debe ser independiente del tamaño del sistema: es decir, para un dado sistema de tamaño $N$ los pasos de tiempo deben ser inversamente proporcional al dicho tamaño. (Falta justificación) Es decir que tomaremos\n",
    "\n",
    "$$\\delta t = \\frac{\\Delta t}{N},$$\n",
    "\n",
    "donde $\\Delta t$ es la constante de tiempo (o unidad de tiempo) de todos los sistemas, independientemente del tamaño del sistema.\n",
    "\n",
    "Por lo tanto,\n",
    "\n",
    "$$P(n, t_{m+1}) - P(n, t_m) = \\partial_t P(n, t) \\frac{\\Delta t}{N}.$$"
   ]
  },
  {
   "cell_type": "markdown",
   "metadata": {},
   "source": [
    "Se define\n",
    "\n",
    "- $up_\\alpha:=\\alpha \\Delta t,$\n",
    "- $up_\\mu:=\\mu \\Delta t,$\n",
    "- $(1-u)p_\\nu:=\\nu \\Delta t,$\n",
    "\n",
    "donde $\\alpha,\\mu,\\nu$ son las frecuencias de los eventos de migración, muerte y nacimiento respectivamente. En particular, $\\mu$ representa la vida media de cada sitio."
   ]
  },
  {
   "cell_type": "markdown",
   "metadata": {},
   "source": [
    "De esta manera, la ecuación maestra se vuelve independiente de $\\Delta T$ y de $u$ como sigue\n",
    "\n",
    "$$\\partial_t P(n, t) = \\left( \\alpha (N-n+1) + \\nu (n-1) \\frac{N-n+1}{N-1} \\right) P(n-1, t) + \\mu(n+1)P(n+1, t) - \\left( \\alpha (N-n) + \\nu n \\frac{N-n}{N-1} + \\mu n \\right) P(n, t).$$\n",
    "\n",
    "En particular, podemos dividir por la vida media de cada sitio $\\mu$, resultando\n",
    "\n",
    "$$\\mu^{-1}\\partial_t P(n, t) = \\left( \\frac{\\alpha}{\\mu} (N-n+1) + \\frac{\\nu}{\\mu} (n-1) \\frac{N-n+1}{N-1} \\right) P(n-1, t) + (n+1)P(n+1, t) - \\left( \\frac{\\alpha}{\\mu} (N-n) + \\frac{\\nu}{\\mu} n \\frac{N-n}{N-1} + n \\right) P(n, t).$$"
   ]
  },
  {
   "cell_type": "markdown",
   "metadata": {},
   "source": [
    "## Existencia del estado estacionario"
   ]
  },
  {
   "cell_type": "markdown",
   "metadata": {},
   "source": [
    "En particular, tenemos un vector de probabilidades $\\vec{P(t)} = \\left[ P(0, t), P(1, t), \\dots , P(N, t)\\right]$, y tenemos el sistema\n",
    "$$\\dot{\\vec{P(t)}} = \\overline{\\overline{M}} \\vec{P(t)}.$$\n",
    "\n",
    "En principio, no es posible resolver el problema analíticamente."
   ]
  },
  {
   "cell_type": "markdown",
   "metadata": {},
   "source": [
    "Estamos interesados en particular en las soluciones del estado estacionario, donde la probabilidad no cambia en el tiempo. En dicho caso, \n",
    "$$0 = \\overline{\\overline{M}} \\vec{P_{est}}.$$\n",
    "\n",
    "Resulta entonces que $\\vec{P_{est}}$ es un autovector de $\\overline{\\overline{M}}$ con autovalor nulo. Para que $0$ sea autovalor de $\\overline{\\overline{M}}$ debe cumplirse que $\\text{det}\\left\\{\\overline{\\overline{M}}\\right\\} = 0.$"
   ]
  },
  {
   "cell_type": "markdown",
   "metadata": {},
   "source": [
    "### Demostración $\\text{det}\\left(\\overline{\\overline{M}}\\right) = 0.$"
   ]
  },
  {
   "cell_type": "markdown",
   "metadata": {},
   "source": [
    "Para mostrar que $\\text{det}\\left(\\overline{\\overline{M}}\\right) = 0$, basta con mostrar que los elementos de cada columna suman cero. Para ello, caractericemos el elemento $M_{i,j}$ de la matriz.\n",
    "\n",
    "En general, por la ecuación del sistema particular que tenemos, \n",
    "$$\\partial_t P(i, t) = \\sum_{j = 0}^{N} M_{i,j} P(j, t) = M_{i, i-1}P(i-1, t) + M_{i, i}P(i, t) + M_{i, i+1}P(i+1, t)\\quad i = 1, 2, \\dots , N-1,$$\n",
    "$$\\partial_t P(0, t) = \\sum_{j = 0}^{N} M_{0,j} P(j, t) = M_{0, 0} P(0, t) + M_{0, 1} P(1, t),$$\n",
    "$$\\partial_t P(N, t) = \\sum_{j = 0}^{N} M_{N,j} P(j, t) = M_{N, N-1} P(N-1, t) + M_{N, N} P(N, t).$$"
   ]
  },
  {
   "cell_type": "markdown",
   "metadata": {},
   "source": [
    "De esta manera, la matriz $\\overline{\\overline{M}}$ está compuesta de la siguiente manera\n",
    "\n",
    "$$ M = \\begin{bmatrix}\n",
    "M_{0,0} & M_{0,1} & 0 & 0 & \\dots & 0 & 0 \\\\\n",
    "M_{1,0} & M_{1,1} & M_{1,2} & 0 & \\dots & 0 & 0 \\\\\n",
    "0 & M_{2,1} & M_{2,2} & M_{2,3} & \\dots & 0 & 0 \\\\\n",
    "0 & 0 & M_{3,2} & M_{3,3} & \\dots & 0 & 0 \\\\\n",
    "\\vdots & \\vdots & \\vdots & \\vdots & \\ddots & \\vdots & \\vdots \\\\\n",
    "0 & 0 & 0 & 0 & \\dots & M_{N, N-1} & M_{N,N}\n",
    "\\end{bmatrix}  $$\n",
    "\n",
    "donde la forma funcional de $M_{i, j}$ viene dada por la siguiente expresión\n",
    "\n",
    "$$M_{i, j} = -\\left[ -\\alpha (N-i) + \\nu i \\frac{N-i}{N-1} \\mu i \\right]\\delta_{i, j} + \\left[ \\alpha (N-i-1) + \\nu (i-1)\\frac{N-i+1}{N-1} \\right] \\delta_{i, j+1} + \\mu (i+1) \\delta_{i, j-1},$$\n",
    "\n",
    "donde introducimos la delta de Kronecker $\\delta$."
   ]
  },
  {
   "cell_type": "markdown",
   "metadata": {},
   "source": [
    "Sea $S_j$ la suma de los elementos de la columna $j$ de la matriz $\\overline{\\overline{M}}$. Es decir\n",
    "\n",
    "$$S_j = \\sum_{i = 0}^{N} M_{i, j}.$$\n",
    "\n",
    "Mostraremos explicitamente que $S_j = 0 \\quad \\forall \\quad j \\in \\{0, 1, \\dots, N\\}$"
   ]
  },
  {
   "cell_type": "markdown",
   "metadata": {},
   "source": [
    "- Para $ j = 1, 2, \\dots, N-1$, se tiene\n",
    "$$S_j = M_{j-1, j} + M_{j, j} + M_{j+1,j} = $$\n",
    "$$\\mu (i+1) \\Big|_{i = j-1} - \\left(\\alpha(N-1) + \\nu i \\frac{N-i}{N-1} + \\nu i\\right) \\Big|_{i = j} + \\left(\\alpha (N-i+1) \\nu (i-1) \\frac{N-i-1}{N-1}\\right)\\Big|_{i = j+1} = $$ \n",
    "$$\n",
    "= \\mu j - \\left(\\alpha (N-j) + \\nu j \\frac{N-j}{N-1} + \\mu j \\right) + \\alpha (N-j) + \\nu j \\frac{N-j}{N-1} = 0.\n",
    "$$\n",
    "\n",
    "- Para $j = 0$, se tiene\n",
    "\n",
    "$$S_0 = M_{0, 0} + M_{1, 0} = -\\alpha N + \\alpha N = 0.$$\n",
    "\n",
    "- Para $j = N$, se tiene\n",
    "\n",
    "$$S_N = M_{N-1, N} + M_{N, N} = \\mu N - \\mu N = 0.$$"
   ]
  },
  {
   "cell_type": "markdown",
   "metadata": {},
   "source": [
    "Luego $S_j = 0 \\quad \\Rightarrow \\quad \\text{det}(\\overline{\\overline{M}}) = 0 \\quad\\quad\\quad\\quad\\quad\\quad\\quad\\quad\\quad\\quad\\quad\\quad\\quad\\quad\\quad\\quad\\quad\\quad\\quad\\quad\\quad\\quad\\quad\\quad\\quad\\quad\\quad\\quad\\quad\\quad\\quad\\quad\\quad\\quad\\quad\\quad\\quad\\quad\\quad\\quad\\quad\\quad\\quad\\quad\\blacksquare$"
   ]
  },
  {
   "cell_type": "markdown",
   "metadata": {},
   "source": [
    "### Resolución del sistema $P_{est}$ para $\\mu = 0$."
   ]
  },
  {
   "cell_type": "markdown",
   "metadata": {},
   "source": [
    "En el caso que la frecuencia de nacimiento $\\mu = 0$, entonces la ecuación maestra resulta particularmente\n",
    "\n",
    "$$\\partial_t P_{est}^{\\mu = 0}(n, t) = \\left[\\alpha (N-n+1) + \\nu(n-1)\\frac{N-n+1}{N-1}\\right] P_{est}^{\\mu = 0}(n-1, t) - \\left[\\alpha (N-n) + \\nu n\\frac{N-n}{N-1}\\right] P_{est}^{\\mu = 0}(n, t) = f(n-1)P_{est}^{\\mu = 0}(n-1, t) - f(n) P_{est}^{\\mu = 0}(n, t),$$\n",
    "\n",
    "donde hemos introducido para simplificar notación la función $f$ definida como \n",
    "\n",
    "$$f(n) = \\alpha (N-n) + \\nu n \\frac{N-n}{N-1}.$$\n",
    "\n",
    "En particular, como dijimos, estamos interesados en resolver el caso donde $\\partial_t P_{est}^{\\mu = 0}(n, t) = 0$.\n",
    "\n",
    "En dicho caso, \n",
    "\n",
    "$$P_{est}^{\\mu = 0}(n, t) = \\frac{f(n-1)}{f(n)} P_{est}^{\\mu = 0}(n-1, t) = \\frac{f(n-1)}{f(n)} \\frac{f(n-2)}{f(n-1)} _{est}^{\\mu = 0}P(n-2, t) = \\frac{f(n-2)}{f(n)} P_{est}^{\\mu = 0}(n-2, t) \\dots = \\frac{f(m)}{f(n)} P_{est}^{\\mu = 0}(m,t).$$\n",
    "\n",
    "En particular,  como $P(n, t)$ es una distribución de probabilidades, podemos conocer el valor de $P(m, t)$ como sigue\n",
    "\n",
    "$$1 = \\sum_{n = 0}^{N} P_{est}^{\\mu = 0}(n, t) = \\sum_{n = 0}^N \\frac{f(m)}{f(n)}P_{est}^{\\mu = 0}(m, t),$$\n",
    "\n",
    "$$\\boxed{\\Rightarrow P_{est}^{\\mu = 0}(m, t) = \\frac{1}{f(m)}\\frac{1}{\\sum_{n = 0}^N\\frac{1}{f(n)}}}$$"
   ]
  }
 ],
 "metadata": {
  "kernelspec": {
   "display_name": "maestria",
   "language": "python",
   "name": "python3"
  },
  "language_info": {
   "name": "python",
   "version": "3.12.4"
  }
 },
 "nbformat": 4,
 "nbformat_minor": 2
}
