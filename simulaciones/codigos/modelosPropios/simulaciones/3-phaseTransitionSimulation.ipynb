{
 "cells": [
  {
   "cell_type": "markdown",
   "metadata": {},
   "source": [
    "# Simulaciones de $P_0$ y $\\langle n \\rangle$ en función de $\\nu$ y $N$."
   ]
  },
  {
   "cell_type": "code",
   "execution_count": 11,
   "metadata": {},
   "outputs": [],
   "source": [
    "%reload_ext autoreload\n",
    "%autoreload 2"
   ]
  },
  {
   "cell_type": "code",
   "execution_count": 12,
   "metadata": {},
   "outputs": [],
   "source": [
    "import os\n",
    "import sys\n",
    "\n",
    "# Get the parent directory\n",
    "parent_directory = os.path.abspath(os.path.join(os.getcwd(), os.pardir))\n",
    "\n",
    "\n",
    "# Add the parent directory to sys.path\n",
    "sys.path.append(parent_directory)\n",
    "\n",
    "# Now import the module\n",
    "from librerias.masterEquation import P0vsNu\n",
    "import numpy as np\n",
    "from tqdm import tqdm\n",
    "import matplotlib.pyplot as plt"
   ]
  },
  {
   "cell_type": "code",
   "execution_count": 13,
   "metadata": {},
   "outputs": [
    {
     "name": "stderr",
     "output_type": "stream",
     "text": [
      "100%|██████████| 95/95 [01:31<00:00,  1.04it/s]\n",
      "100%|██████████| 95/95 [01:27<00:00,  1.09it/s]\n",
      "100%|██████████| 95/95 [01:28<00:00,  1.07it/s]\n",
      "100%|██████████| 95/95 [01:24<00:00,  1.13it/s]"
     ]
    },
    {
     "name": "stdout",
     "output_type": "stream",
     "text": [
      "Data and parameters saved to c:\\maestria\\simulaciones\\codigos\\modelosPropios\\data\\simulation_nu_and_N.pkl\n"
     ]
    },
    {
     "name": "stderr",
     "output_type": "stream",
     "text": [
      "\n"
     ]
    }
   ],
   "source": [
    "# fixed parameters\n",
    "alphas = [0.1, 0.01, 0.001, 0.0001]\n",
    "mu = 1\n",
    "N_min, N_max = 5, 100\n",
    "nu_min, nu_max, N_nu = 0, 4, 1000\n",
    "r = 0.5\n",
    "\n",
    "# simulacion\n",
    "label_data = [\"P0s\", \"Means\", \"RealMeans\", \"Std\", \"RealStd\", \"nuCars\"]\n",
    "total_data_N = []\n",
    "\n",
    "for alpha in alphas:\n",
    "    nuCars = np.zeros(N_max - N_min)\n",
    "    P0s = np.zeros((N_max - N_min, N_nu))\n",
    "    Means = np.zeros((N_max - N_min, N_nu))\n",
    "    RealMeans = np.zeros((N_max - N_min, N_nu))\n",
    "    Std = np.zeros((N_max - N_min, N_nu))\n",
    "    RealStd = np.zeros((N_max - N_min, N_nu))\n",
    "    for i, N in enumerate(tqdm(range(N_min, N_max))):\n",
    "        me = P0vsNu(N, nu_min, nu_max, N_nu, mu, alpha)\n",
    "        me.makeP0vsNu()\n",
    "        P0s[i] = me.getP0Vector()\n",
    "        Means[i] = me.getMeanVector()\n",
    "        RealMeans[i] = me.getRealMeanVector()\n",
    "        Std[i] = me.getStdDeviationVector()\n",
    "        RealStd[i] = me.getRealStdDeviationVector()\n",
    "        nuCars[i] = me.getCaracteristicNu(r)\n",
    "        del me\n",
    "    total_data_N.append((P0s, Means, RealMeans, Std, RealStd, nuCars))\n",
    "\n",
    "# save data\n",
    "import os\n",
    "import pickle\n",
    "\n",
    "# Get the parent directory of the current working directory\n",
    "parent_directory = os.path.abspath(os.path.join(os.getcwd(), os.pardir))\n",
    "\n",
    "# Define the folder path in the parent directory\n",
    "folder_name = os.path.join(os.path.join(parent_directory, 'data'), 'EcuacionMaestra')\n",
    "\n",
    "# Create the folder if it doesn't exist\n",
    "if not os.path.exists(folder_name):\n",
    "    os.makedirs(folder_name)\n",
    "\n",
    "filename = os.path.join(folder_name, 'simulation_nu_and_N.pkl')\n",
    "\n",
    "# Combine simulation data and parameters into a single dictionary\n",
    "data_to_save = {\n",
    "    'label_data': label_data,\n",
    "    'total_data_N': total_data_N,\n",
    "    'fixed_parameters': {\n",
    "        'alphas': alphas,\n",
    "        'mu': mu,\n",
    "        'N_min': N_min,\n",
    "        'N_max': N_max,\n",
    "        'nu_min': nu_min,\n",
    "        'nu_max': nu_max,\n",
    "        'N_nu': N_nu,\n",
    "        'r': r\n",
    "    }\n",
    "}\n",
    "\n",
    "# Save the data using pickle\n",
    "with open(filename, 'wb') as f:\n",
    "    pickle.dump(data_to_save, f)\n",
    "\n",
    "print(f\"Data and parameters saved to {filename}\")"
   ]
  },
  {
   "cell_type": "markdown",
   "metadata": {},
   "source": [
    "# Simulación de $P_0$ y $\\langle n \\rangle$ en función de $\\nu$ y $\\alpha$."
   ]
  },
  {
   "cell_type": "code",
   "execution_count": 14,
   "metadata": {},
   "outputs": [],
   "source": [
    "%reload_ext autoreload\n",
    "%autoreload 2"
   ]
  },
  {
   "cell_type": "code",
   "execution_count": 15,
   "metadata": {},
   "outputs": [],
   "source": [
    "import os\n",
    "import sys\n",
    "\n",
    "# Get the parent directory\n",
    "parent_directory = os.path.abspath(os.path.join(os.getcwd(), os.pardir))\n",
    "\n",
    "# Add the parent directory to sys.path\n",
    "sys.path.append(parent_directory)\n",
    "\n",
    "# Now import the module\n",
    "from librerias.masterEquation import P0vsNu\n",
    "import numpy as np\n",
    "from tqdm import tqdm\n",
    "import matplotlib.pyplot as plt"
   ]
  },
  {
   "cell_type": "code",
   "execution_count": 16,
   "metadata": {},
   "outputs": [
    {
     "name": "stderr",
     "output_type": "stream",
     "text": [
      "  0%|          | 0/1000 [00:00<?, ?it/s]c:\\maestria\\simulaciones\\codigos\\modelosPropios\\librerias\\masterEquation.py:71: RuntimeWarning: invalid value encountered in sqrt\n",
      "  self.std_deviation = np.sqrt((aux_std_deviation)/(self.N*self.N*(1-self.P0)) - self.mean**2)\n",
      "100%|██████████| 1000/1000 [01:02<00:00, 16.04it/s]\n",
      "100%|██████████| 1000/1000 [01:08<00:00, 14.52it/s]\n",
      "100%|██████████| 1000/1000 [01:54<00:00,  8.76it/s]\n",
      "100%|██████████| 1000/1000 [06:55<00:00,  2.41it/s]"
     ]
    },
    {
     "name": "stdout",
     "output_type": "stream",
     "text": [
      "Data and parameters saved to c:\\maestria\\simulaciones\\codigos\\modelosPropios\\data\\simulation_nu_and_alpha.pkl\n"
     ]
    },
    {
     "name": "stderr",
     "output_type": "stream",
     "text": [
      "\n"
     ]
    }
   ],
   "source": [
    "# fixed parameters\n",
    "Ns = [5, 10, 20, 50]\n",
    "mu = 1\n",
    "\n",
    "nu_min, nu_max, N_nu = 0, 4, 500\n",
    "alpha_min, alpha_max, N_alpha = -10, -1, 1000    # alpha = 10**alpha\n",
    "alphas = np.logspace(alpha_min, alpha_max, N_alpha)\n",
    "r = 0.5\n",
    "\n",
    "# Simulacion\n",
    "total_data_alpha = []\n",
    "label_data = [\"P0s\", \"Means\", \"RealMeans\", \"Std\", \"RealStd\", \"nuCars\"]\n",
    "\n",
    "for j, N in enumerate(Ns):\n",
    "    nuCars = np.zeros(N_alpha)\n",
    "    P0s = np.zeros((N_alpha, N_nu))\n",
    "    Means = np.zeros((N_alpha, N_nu))\n",
    "    RealMeans = np.zeros((N_alpha, N_nu))\n",
    "    Std = np.zeros((N_alpha, N_nu))\n",
    "    RealStd = np.zeros((N_alpha, N_nu))\n",
    "    for i, alpha in enumerate(tqdm(alphas)):\n",
    "        me = P0vsNu(N, nu_min, nu_max, N_nu, mu, alpha)\n",
    "        me.makeP0vsNu()\n",
    "        P0s[i] = me.getP0Vector()\n",
    "        Means[i] = me.getMeanVector()\n",
    "        RealMeans[i] = me.getRealMeanVector()\n",
    "        Std[i] = me.getStdDeviationVector()\n",
    "        RealStd[i] = me.getRealStdDeviationVector()\n",
    "        nuCars[i] = me.getCaracteristicNu(r)\n",
    "        del me\n",
    "    \n",
    "    total_data_alpha.append((P0s, Means, RealMeans, Std, RealStd, nuCars))\n",
    "\n",
    "# save data\n",
    "import os\n",
    "import pickle\n",
    "\n",
    "# Get the parent directory of the current working directory\n",
    "parent_directory = os.path.abspath(os.path.join(os.getcwd(), os.pardir))\n",
    "\n",
    "# Define the folder path in the parent directory\n",
    "folder_name = os.path.join(parent_directory, 'data')\n",
    "\n",
    "# Create the folder if it doesn't exist\n",
    "if not os.path.exists(folder_name):\n",
    "    os.makedirs(folder_name)\n",
    "\n",
    "filename = os.path.join(folder_name, 'simulation_nu_and_alpha.pkl')\n",
    "\n",
    "# Combine simulation data and parameters into a single dictionary\n",
    "data_to_save = {\n",
    "    'label_data': label_data,\n",
    "    'total_data_alpha': total_data_alpha,\n",
    "    'fixed_parameters': {\n",
    "        'Ns': Ns,\n",
    "        'mu': mu,\n",
    "        'nu_min': nu_min,\n",
    "        'nu_max': nu_max,\n",
    "        'N_nu': N_nu,\n",
    "        'alpha_min': alpha_min,\n",
    "        'alpha_max': alpha_max,\n",
    "        'N_alpha': N_alpha,\n",
    "        'r': r\n",
    "    }\n",
    "}\n",
    "\n",
    "# Save the data using pickle\n",
    "with open(filename, 'wb') as f:\n",
    "    pickle.dump(data_to_save, f)\n",
    "\n",
    "print(f\"Data and parameters saved to {filename}\")"
   ]
  },
  {
   "cell_type": "code",
   "execution_count": null,
   "metadata": {},
   "outputs": [],
   "source": []
  }
 ],
 "metadata": {
  "kernelspec": {
   "display_name": "Python 3",
   "language": "python",
   "name": "python3"
  },
  "language_info": {
   "codemirror_mode": {
    "name": "ipython",
    "version": 3
   },
   "file_extension": ".py",
   "mimetype": "text/x-python",
   "name": "python",
   "nbconvert_exporter": "python",
   "pygments_lexer": "ipython3",
   "version": "3.12.4"
  }
 },
 "nbformat": 4,
 "nbformat_minor": 2
}
