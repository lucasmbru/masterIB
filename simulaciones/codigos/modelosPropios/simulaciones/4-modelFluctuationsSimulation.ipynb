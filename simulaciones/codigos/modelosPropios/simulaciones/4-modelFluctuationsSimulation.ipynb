{
 "cells": [
  {
   "cell_type": "markdown",
   "metadata": {},
   "source": [
    "# Simulación numérica de la dinámica del sistema para el análisis de las fluctuaciones"
   ]
  },
  {
   "cell_type": "code",
   "execution_count": 1,
   "metadata": {},
   "outputs": [],
   "source": [
    "%reload_ext autoreload\n",
    "%autoreload 2"
   ]
  },
  {
   "cell_type": "code",
   "execution_count": 2,
   "metadata": {},
   "outputs": [],
   "source": [
    "# import libraries\n",
    "import numpy as np\n",
    "from tqdm import tqdm\n",
    "\n",
    "import pickle\n",
    "import os\n",
    "\n",
    "import sys\n",
    "\n",
    "# Get the parent directory\n",
    "parent_directory = os.path.abspath(os.path.join(os.getcwd(), os.pardir))\n",
    "\n",
    "# Add the parent directory to sys.path\n",
    "sys.path.append(parent_directory)\n",
    "\n",
    "from librerias.popEvolution import PopulationEvolution"
   ]
  },
  {
   "cell_type": "code",
   "execution_count": 9,
   "metadata": {},
   "outputs": [
    {
     "name": "stderr",
     "output_type": "stream",
     "text": [
      "100%|██████████| 4/4 [00:00<00:00, 37.04it/s]\n",
      "100%|██████████| 4/4 [00:00<00:00, 45.26it/s]\n",
      "100%|██████████| 4/4 [00:00<00:00, 10.95it/s]\n",
      "100%|██████████| 4/4 [00:05<00:00,  1.37s/it]\n",
      "100%|██████████| 4/4 [01:01<00:00, 15.29s/it]\n",
      " 50%|█████     | 2/4 [00:11<00:11,  5.55s/it]\n",
      " 83%|████████▎ | 5/6 [01:18<00:15, 15.67s/it]\n"
     ]
    },
    {
     "ename": "KeyboardInterrupt",
     "evalue": "",
     "output_type": "error",
     "traceback": [
      "\u001b[1;31m---------------------------------------------------------------------------\u001b[0m",
      "\u001b[1;31mKeyboardInterrupt\u001b[0m                         Traceback (most recent call last)",
      "Cell \u001b[1;32mIn[9], line 20\u001b[0m\n\u001b[0;32m     18\u001b[0m pop \u001b[38;5;241m=\u001b[39m PopulationEvolution(N, \u001b[38;5;241m1\u001b[39m, u, alpha, nu, mu, pmu)\n\u001b[0;32m     19\u001b[0m \u001b[38;5;28;01mfor\u001b[39;00m k \u001b[38;5;129;01min\u001b[39;00m (\u001b[38;5;28mrange\u001b[39m(N_evolutions)):\n\u001b[1;32m---> 20\u001b[0m     aux_mean, aux_medium, aux_std, aux_max, aux_lenght \u001b[38;5;241m=\u001b[39m \u001b[43mpop\u001b[49m\u001b[38;5;241;43m.\u001b[39;49m\u001b[43mmake_single_evolution\u001b[49m\u001b[43m(\u001b[49m\u001b[43m)\u001b[49m\n\u001b[0;32m     21\u001b[0m     total_data[i, j, \u001b[38;5;241m0\u001b[39m, k] \u001b[38;5;241m=\u001b[39m aux_mean\n\u001b[0;32m     22\u001b[0m     total_data[i, j, \u001b[38;5;241m1\u001b[39m, k] \u001b[38;5;241m=\u001b[39m aux_medium\n",
      "File \u001b[1;32mc:\\maestria\\simulaciones\\codigos\\modelosPropios\\librerias\\popEvolution.py:125\u001b[0m, in \u001b[0;36mPopulationEvolution.make_single_evolution\u001b[1;34m(self)\u001b[0m\n\u001b[0;32m    122\u001b[0m \u001b[38;5;28;01melse\u001b[39;00m: \n\u001b[0;32m    123\u001b[0m     \u001b[38;5;66;03m# Double interaction\u001b[39;00m\n\u001b[0;32m    124\u001b[0m     place1, place2 \u001b[38;5;241m=\u001b[39m random\u001b[38;5;241m.\u001b[39msample(\u001b[38;5;28mrange\u001b[39m(\u001b[38;5;28mself\u001b[39m\u001b[38;5;241m.\u001b[39mN), \u001b[38;5;241m2\u001b[39m)\n\u001b[1;32m--> 125\u001b[0m     specie1 \u001b[38;5;241m=\u001b[39m \u001b[38;5;28;43mself\u001b[39;49m\u001b[38;5;241;43m.\u001b[39;49m\u001b[43mspecie_choiced\u001b[49m\u001b[43m(\u001b[49m\u001b[43mplace1\u001b[49m\u001b[43m,\u001b[49m\u001b[43m \u001b[49m\u001b[43mn\u001b[49m\u001b[43m)\u001b[49m\n\u001b[0;32m    126\u001b[0m     specie2 \u001b[38;5;241m=\u001b[39m \u001b[38;5;28mself\u001b[39m\u001b[38;5;241m.\u001b[39mspecie_choiced(place2, n)\n\u001b[0;32m    127\u001b[0m     \u001b[38;5;28;01mif\u001b[39;00m specie1 \u001b[38;5;241m==\u001b[39m \u001b[38;5;124m\"\u001b[39m\u001b[38;5;124mA\u001b[39m\u001b[38;5;124m\"\u001b[39m \u001b[38;5;129;01mand\u001b[39;00m specie2 \u001b[38;5;241m==\u001b[39m \u001b[38;5;124m\"\u001b[39m\u001b[38;5;124mE\u001b[39m\u001b[38;5;124m\"\u001b[39m:\n\u001b[0;32m    128\u001b[0m         \u001b[38;5;66;03m# First place is occupied by A and the second by E\u001b[39;00m\n",
      "File \u001b[1;32mc:\\maestria\\simulaciones\\codigos\\modelosPropios\\librerias\\popEvolution.py:27\u001b[0m, in \u001b[0;36mPopulationEvolution.specie_choiced\u001b[1;34m(self, place, n)\u001b[0m\n\u001b[0;32m     24\u001b[0m     \u001b[38;5;28mself\u001b[39m\u001b[38;5;241m.\u001b[39mpopulation \u001b[38;5;241m=\u001b[39m [n_0]\n\u001b[0;32m     25\u001b[0m     \u001b[38;5;28mself\u001b[39m\u001b[38;5;241m.\u001b[39mt \u001b[38;5;241m=\u001b[39m \u001b[38;5;241m0\u001b[39m\n\u001b[1;32m---> 27\u001b[0m \u001b[38;5;28;01mdef\u001b[39;00m \u001b[38;5;21mspecie_choiced\u001b[39m(\u001b[38;5;28mself\u001b[39m, place, n) \u001b[38;5;241m-\u001b[39m\u001b[38;5;241m>\u001b[39m \u001b[38;5;28mstr\u001b[39m:\n\u001b[0;32m     28\u001b[0m \u001b[38;5;250m    \u001b[39m\u001b[38;5;124;03m\"\"\" Function that returns the specie of the place 'place' \u001b[39;00m\n\u001b[0;32m     29\u001b[0m \u001b[38;5;124;03m    Parameters:\u001b[39;00m\n\u001b[0;32m     30\u001b[0m \u001b[38;5;124;03m    -----------\u001b[39;00m\n\u001b[1;32m   (...)\u001b[0m\n\u001b[0;32m     38\u001b[0m \u001b[38;5;124;03m    str: \"A\" or \"E\"\u001b[39;00m\n\u001b[0;32m     39\u001b[0m \u001b[38;5;124;03m    \"\"\"\u001b[39;00m\n\u001b[0;32m     40\u001b[0m     \u001b[38;5;28;01mif\u001b[39;00m place \u001b[38;5;241m<\u001b[39m n:\n",
      "\u001b[1;31mKeyboardInterrupt\u001b[0m: "
     ]
    }
   ],
   "source": [
    "# fixed parameters\n",
    "mu = 1\n",
    "u = 0.5\n",
    "n_0 = 1\n",
    "alpha = 0.01\n",
    "nus = [0.5, 1, 1.5, 2, 2.5, 3]\n",
    "pmu = 0.2\n",
    "Ns = [5, 10, 20, 30]\n",
    "N_evolutions = 10\n",
    "\n",
    "label_data = [\"Means\", \"Medium\", \"Stds\", \"Maxs\", \"Lenght\"]\n",
    "\n",
    "total_data = np.zeros((len(nus), len(Ns), len(label_data), N_evolutions))\n",
    "\n",
    "\n",
    "for i, nu in enumerate(tqdm(nus)):\n",
    "    for j, N in enumerate(tqdm(Ns)):\n",
    "        pop = PopulationEvolution(N, 1, u, alpha, nu, mu, pmu)\n",
    "        for k in (range(N_evolutions)):\n",
    "            aux_mean, aux_medium, aux_std, aux_max, aux_lenght = pop.make_single_evolution()\n",
    "            total_data[i, j, 0, k] = aux_mean\n",
    "            total_data[i, j, 1, k] = aux_medium\n",
    "            total_data[i, j, 2, k] = aux_std\n",
    "            total_data[i, j, 3, k] = aux_max\n",
    "            total_data[i, j, 4, k] = aux_lenght\n",
    "            \n",
    "\n",
    "# Get the parent directory of the current working directory\n",
    "parent_directory = os.path.abspath(os.path.join(os.getcwd(), os.pardir))\n",
    "\n",
    "# Define the folder path in the parent directory\n",
    "folder_name = os.path.join(os.path.join(parent_directory, 'data'), 'Evoluciones')\n",
    "\n",
    "# Create the folder if it doesn't exist\n",
    "if not os.path.exists(folder_name):\n",
    "    os.makedirs(folder_name)\n",
    "\n",
    "filename = os.path.join(folder_name, 'Evoluciones_fluctuaciones.pkl')\n",
    "\n",
    "# Combine simulation data and parameters into a single dictionary\n",
    "data_to_save = {\n",
    "    'label_data': label_data,\n",
    "    'total_data': total_data,\n",
    "    'fixed_parameters': {\n",
    "        'mu': mu,\n",
    "        'u': u,\n",
    "        'n_0': n_0,\n",
    "        'alpha': alpha,\n",
    "        'nus': nus,\n",
    "        'pmu': pmu,\n",
    "        'Ns': Ns,\n",
    "        'N_evolutions': N_evolutions\n",
    "    }\n",
    "}\n",
    "\n",
    "# Save the data using pickle\n",
    "with open(filename, 'wb') as f:\n",
    "    pickle.dump(data_to_save, f)\n",
    "\n",
    "print(f\"Data and parameters saved to {filename}\")"
   ]
  }
 ],
 "metadata": {
  "kernelspec": {
   "display_name": "maestria",
   "language": "python",
   "name": "python3"
  },
  "language_info": {
   "codemirror_mode": {
    "name": "ipython",
    "version": 3
   },
   "file_extension": ".py",
   "mimetype": "text/x-python",
   "name": "python",
   "nbconvert_exporter": "python",
   "pygments_lexer": "ipython3",
   "version": "3.12.4"
  }
 },
 "nbformat": 4,
 "nbformat_minor": 2
}
