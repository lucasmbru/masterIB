{
 "cells": [
  {
   "cell_type": "markdown",
   "metadata": {},
   "source": [
    "# Simulación numérica de la dinámica del sistema para el análisis de las fluctuaciones"
   ]
  },
  {
   "cell_type": "code",
   "execution_count": 1,
   "metadata": {},
   "outputs": [],
   "source": [
    "%reload_ext autoreload\n",
    "%autoreload 2"
   ]
  },
  {
   "cell_type": "code",
   "execution_count": 2,
   "metadata": {},
   "outputs": [],
   "source": [
    "# import libraries\n",
    "import numpy as np\n",
    "from tqdm import tqdm\n",
    "\n",
    "import pickle\n",
    "import os\n",
    "\n",
    "import sys\n",
    "\n",
    "# Get the parent directory\n",
    "parent_directory = os.path.abspath(os.path.join(os.getcwd(), os.pardir))\n",
    "\n",
    "# Add the parent directory to sys.path\n",
    "sys.path.append(parent_directory)\n",
    "\n",
    "from librerias.popEvolution import PopulationEvolution"
   ]
  },
  {
   "cell_type": "code",
   "execution_count": 3,
   "metadata": {},
   "outputs": [
    {
     "name": "stderr",
     "output_type": "stream",
     "text": [
      "100%|██████████| 4/4 [00:34<00:00,  8.74s/it]\n",
      "100%|██████████| 4/4 [01:00<00:00, 15.16s/it]\n",
      "100%|██████████| 4/4 [04:06<00:00, 61.70s/it]\n",
      "100%|██████████| 4/4 [56:34<00:00, 848.51s/it] \n",
      "100%|██████████| 4/4 [1:02:16<00:00, 934.11s/it] "
     ]
    },
    {
     "name": "stdout",
     "output_type": "stream",
     "text": [
      "Data and parameters saved to c:\\maestria\\simulaciones\\codigos\\modelosPropios\\data\\Evoluciones\\Evoluciones_fluctuaciones_1.pkl\n"
     ]
    },
    {
     "name": "stderr",
     "output_type": "stream",
     "text": [
      "\n"
     ]
    }
   ],
   "source": [
    "# fixed parameters\n",
    "mu = 1\n",
    "u = 0.5\n",
    "n_0 = 1\n",
    "alpha = 0.01\n",
    "nus = [0.5, 1, 1.5, 2]\n",
    "pmu = 0.2\n",
    "Ns = [5, 10, 20, 30]\n",
    "N_evolutions = 10000\n",
    "\n",
    "label_data = [\"Means\", \"Medium\", \"Stds\", \"Maxs\", \"Lenght\"]\n",
    "\n",
    "total_data = np.zeros((len(nus), len(Ns), len(label_data), N_evolutions))\n",
    "\n",
    "\n",
    "for i, nu in enumerate(tqdm(nus)):\n",
    "    for j, N in enumerate(tqdm(Ns)):\n",
    "        pop = PopulationEvolution(N, 1, u, alpha, nu, mu, pmu)\n",
    "        for k in (range(N_evolutions)):\n",
    "            aux_mean, aux_medium, aux_std, aux_max, aux_lenght = pop.make_single_evolution()\n",
    "            total_data[i, j, 0, k] = aux_mean\n",
    "            total_data[i, j, 1, k] = aux_medium\n",
    "            total_data[i, j, 2, k] = aux_std\n",
    "            total_data[i, j, 3, k] = aux_max\n",
    "            total_data[i, j, 4, k] = aux_lenght\n",
    "        pop.deletePopulationClass()\n",
    "            \n",
    "\n",
    "# Get the parent directory of the current working directory\n",
    "parent_directory = os.path.abspath(os.path.join(os.getcwd(), os.pardir))\n",
    "\n",
    "# Define the folder path in the parent directory\n",
    "folder_name = os.path.join(os.path.join(parent_directory, 'data'), 'Evoluciones')\n",
    "\n",
    "# Create the folder if it doesn't exist\n",
    "if not os.path.exists(folder_name):\n",
    "    os.makedirs(folder_name)\n",
    "\n",
    "filename = os.path.join(folder_name, 'Evoluciones_fluctuaciones_1.pkl')\n",
    "\n",
    "# Combine simulation data and parameters into a single dictionary\n",
    "data_to_save = {\n",
    "    'label_data': label_data,\n",
    "    'total_data': total_data,\n",
    "    'fixed_parameters': {\n",
    "        'mu': mu,\n",
    "        'u': u,\n",
    "        'n_0': n_0,\n",
    "        'alpha': alpha,\n",
    "        'nus': nus,\n",
    "        'pmu': pmu,\n",
    "        'Ns': Ns,\n",
    "        'N_evolutions': N_evolutions\n",
    "    }\n",
    "}\n",
    "\n",
    "# Save the data using pickle\n",
    "with open(filename, 'wb') as f:\n",
    "    pickle.dump(data_to_save, f)\n",
    "\n",
    "print(f\"Data and parameters saved to {filename}\")"
   ]
  }
 ],
 "metadata": {
  "kernelspec": {
   "display_name": "maestria",
   "language": "python",
   "name": "python3"
  },
  "language_info": {
   "codemirror_mode": {
    "name": "ipython",
    "version": 3
   },
   "file_extension": ".py",
   "mimetype": "text/x-python",
   "name": "python",
   "nbconvert_exporter": "python",
   "pygments_lexer": "ipython3",
   "version": "3.12.4"
  }
 },
 "nbformat": 4,
 "nbformat_minor": 2
}
