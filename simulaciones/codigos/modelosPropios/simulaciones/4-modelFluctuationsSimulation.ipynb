{
 "cells": [
  {
   "cell_type": "markdown",
   "metadata": {},
   "source": [
    "# Simulación numérica de la dinámica del sistema para el análisis de las fluctuaciones"
   ]
  },
  {
   "cell_type": "code",
   "execution_count": 1,
   "metadata": {},
   "outputs": [],
   "source": [
    "%reload_ext autoreload\n",
    "%autoreload 2"
   ]
  },
  {
   "cell_type": "code",
   "execution_count": 3,
   "metadata": {},
   "outputs": [],
   "source": [
    "# import libraries\n",
    "import numpy as np\n",
    "from tqdm import tqdm\n",
    "\n",
    "import pickle\n",
    "import os\n",
    "\n",
    "import sys\n",
    "\n",
    "# Get the parent directory\n",
    "parent_directory = os.path.abspath(os.path.join(os.getcwd(), os.pardir))\n",
    "\n",
    "# Add the parent directory to sys.path\n",
    "sys.path.append(parent_directory)\n",
    "\n",
    "from librerias.popEvolution import PopulationEvolution"
   ]
  },
  {
   "cell_type": "code",
   "execution_count": null,
   "metadata": {},
   "outputs": [],
   "source": [
    "# fixed parameters\n",
    "mu = 1\n",
    "u = 0.5\n",
    "n_0 = 0\n",
    "alpha = 0.01\n",
    "nus = [0.5, 1, 1.5, 2, 2.5, 3]\n",
    "pmu = 0.2\n",
    "Ns = [5, 10, 20, 30, 50]\n",
    "t_max = 100000\n",
    "\n",
    "# lets save the values of n evolution for each nu and N\n",
    "total_data = np.zeros((len(nus), len(Ns), t_max))\n",
    "\n",
    "for i, nu in enumerate(tqdm(nus)):\n",
    "    for j, N in enumerate(Ns):\n",
    "        pop = PopulationEvolution(N, n_0, u, alpha, nu, mu, pmu)\n",
    "        pop.make_evolution(t_max)\n",
    "        total_data[i, j, :] = pop.get_population()\n",
    "\n",
    "\n",
    "# Get the parent directory of the current working directory\n",
    "parent_directory = os.path.abspath(os.path.join(os.getcwd(), os.pardir))\n",
    "\n",
    "# Define the folder path in the parent directory\n",
    "folder_name = os.path.join(os.path.join(parent_directory, 'data'), 'EcuacionMaestra')\n",
    "\n",
    "# Create the folder if it doesn't exist\n",
    "if not os.path.exists(folder_name):\n",
    "    os.makedirs(folder_name)\n",
    "\n",
    "filename = os.path.join(folder_name, '.pkl')\n",
    "\n",
    "# Combine simulation data and parameters into a single dictionary\n",
    "data_to_save = {\n",
    "    'label_data': label_data,\n",
    "    'total_data_N': total_data_N,\n",
    "    'fixed_parameters': {\n",
    "        'alphas': Ns,\n",
    "        'mu': mu,\n",
    "        'r': r\n",
    "    }\n",
    "}\n",
    "\n",
    "# Save the data using pickle\n",
    "with open(filename, 'wb') as f:\n",
    "    pickle.dump(data_to_save, f)\n",
    "\n",
    "print(f\"Data and parameters saved to {filename}\")"
   ]
  }
 ],
 "metadata": {
  "kernelspec": {
   "display_name": "maestria",
   "language": "python",
   "name": "python3"
  },
  "language_info": {
   "codemirror_mode": {
    "name": "ipython",
    "version": 3
   },
   "file_extension": ".py",
   "mimetype": "text/x-python",
   "name": "python",
   "nbconvert_exporter": "python",
   "pygments_lexer": "ipython3",
   "version": "3.12.4"
  }
 },
 "nbformat": 4,
 "nbformat_minor": 2
}
