{
 "cells": [
  {
   "cell_type": "markdown",
   "metadata": {},
   "source": [
    "# Evolución de una población de una especie"
   ]
  },
  {
   "cell_type": "markdown",
   "metadata": {},
   "source": [
    "## Descripción del modelo"
   ]
  },
  {
   "cell_type": "markdown",
   "metadata": {},
   "source": [
    "Modelo tipo \"no espacial\" similar al planteado en el PRE de McKane de 2004.\n",
    "El sistema cuenta con $N$ sitios, los cuales están etiquetados con:\n",
    "- La letra $A$ si se encuentran ocupados por la especie en cuestión. En cada instante, la cantidad de sitios de este tipo lo denotaremos con la cantidad $n$.\n",
    "- La letra $E$ si se encuentra vacío. Naturalmente, habrá $N-n$ sitios de este tipo."
   ]
  },
  {
   "cell_type": "markdown",
   "metadata": {},
   "source": [
    "### Evolución del modelo"
   ]
  },
  {
   "cell_type": "markdown",
   "metadata": {},
   "source": [
    "El modelo evoluciona según el siguiente proceso estocástico con reglas de interacción del \n",
    "\n",
    "1. Con probabilidad $u$ se elige un sitio $S_1$ al azar.\n",
    "    - Proceso de muerte: Si tal sitio es $S_1 = A$ (se encuentra ocupado), entonces se da la transición $A \\rightarrow E$ con una probabilidad $p_\\mu$.\n",
    "    - Proceso de migración expontánea: Si tal sitio es $S_1 = E$ (se encuentra desocupado), entonces se da la transición $E \\rightarrow A$ con una probabilidad $p_\\alpha$.\n",
    "\n",
    "2. En otro caso (con probabilidad $1-u$) se elige un sitio $S_2$ al azar:\n",
    "    - Proceso de nacimiento: Si tal sitio es $S_2 = A$ (se encuentra ocupado) se elije otro sitio, $S_3$, al azar\n",
    "        - Si ese sitio es $S_3 = E$ (se encuentra desocupado) entonces se da la transición $AE \\rightarrow AA$ con probabilidad $p_\\nu$.\n",
    "        - Si ese sitio es $S_3 = A$ (se encuentra ocupado) entonces no se da ninguna transición y el proceso termina\n",
    "    - En el caso que el sitio $S_2 = E$ (se encuentra ocupado), el proceso se termina."
   ]
  },
  {
   "cell_type": "markdown",
   "metadata": {},
   "source": [
    "#### Tasas de transiciones\n",
    "\n",
    "El estado del sistema viene caracterizado por el número $n(t)$ a lo largo de los pasos del tiempo. La tasa de transición de un estado $n(t)$ a un estado $n'(t+1)$ en un paso de tiempo será denotado como $T(n'|n)$. De esta manera, como en cada paso de tiempo puede incrementearse en uno o disminuir en uno la cantiadad $n$, las tasas de transiciones no nulas son\n",
    "\n",
    "- $T(n+1|n)$: debido a procesos de nacimiento y de migración expontánea.\n",
    "- $T(n-1|n)$: debido a procesos de muerte.\n",
    "\n",
    "Las expresiones son, entonces,\n",
    "\n",
    "$$T(n+1|n) = up_\\alpha \\frac{N-n}{N} + (1-u) p_\\nu \\frac{n}{N}\\frac{N-n}{N-1},$$\n",
    "$$T(n-1|n) = u p_\\mu \\frac{n}{N}.$$"
   ]
  },
  {
   "cell_type": "markdown",
   "metadata": {},
   "source": [
    "#### Ecuación Maestra y evolución del valor medio."
   ]
  },
  {
   "cell_type": "markdown",
   "metadata": {},
   "source": [
    "Sea $P(n, t)$ la probabilidad de encontrar a tiempo $t$ el sistema con $n$ sitios etiquetados con $A$. La ecuación Maestra que gobierna su evolución en el tiempo es\n",
    "\n",
    "$$\\frac{dP(n, t)}{dt} = T(n|n+1) P(n+1,t) + T(n|n-1)P(n-1,t) - \\left[T(n+1|n) - T(n-1|n)\\right] P(n, t).$$"
   ]
  },
  {
   "cell_type": "markdown",
   "metadata": {},
   "source": [
    "Al evaluar la cantidad $\\left\\langle n \\right\\rangle = \\sum_{n=0}^{N} n P(n, t)$ y tomar su derivada temporal $\\frac{d\\left\\langle n \\right\\rangle}{dt} =  \\sum_{n=0}^{N} n \\frac{dP(n, t)}{dt}$, resulta\n",
    "\n",
    "$$\\frac{d\\left\\langle n \\right\\rangle}{dt} = \\sum_{n=0}^{N} n \\left\\{ T(n|n+1) P(n+1,t) + T(n|n-1)P(n-1,t) - \\left[T(n+1|n) - T(n-1|n)\\right] P(n, t) \\right\\}$$\n",
    "\n",
    "$$\\Rightarrow \\frac{d\\left\\langle n \\right\\rangle}{dt} = \\left\\{\\sum_{n = 1}^{N+1} (n-1) T(n-1|n) P(n, t) - \\sum_{n = 0}^{N} n T(n-1|n) P(n, t) \\right\\} +$$\n",
    "\n",
    "$$+ \\left\\{\\sum_{n = -1}^{N-1} (n+1) T(n+1|n) P(n, t) - \\sum_{n = 0}^{N} n T(n+1|n) P(n, t) \\right\\}$$"
   ]
  },
  {
   "cell_type": "markdown",
   "metadata": {},
   "source": [
    "Tomamos $T(N|N+1) = T(N+1|N) = T(-1|0) = 0$, entonces podemos compactar las expresiones anteriores directamente \n",
    "\n",
    "$$\\frac{d\\left\\langle n \\right\\rangle}{dt} = \\sum_{n = 0}^{N} \\left\\{T(n+1|n) - T(n-1|n)\\right\\} P(n, t).$$\n"
   ]
  },
  {
   "cell_type": "markdown",
   "metadata": {},
   "source": [
    "Reemplazando por las expresiones de las tasas de transición obtenidas más arriba, arribamos directamente a\n",
    "\n",
    "$$\\frac{d\\left\\langle n \\right\\rangle / N}{dt} = \\frac{up_\\alpha}{N} \\left\\langle 1-\\frac{n}{N}\\right\\rangle + \\frac{(1-u)p_\\nu}{N-1} \\left\\langle \\frac{n}{N} \\left(1-\\frac{n}{N}\\right)\\right\\rangle - \\frac{up_\\mu}{N} \\left\\langle \\frac{n}{N} \\right\\rangle.$$"
   ]
  },
  {
   "cell_type": "markdown",
   "metadata": {},
   "source": [
    "#### Valor estacionario."
   ]
  },
  {
   "cell_type": "markdown",
   "metadata": {},
   "source": [
    "Denominando $\\phi(t) = \\frac{\\langle n (t) \\rangle}{N}$, al considerar la aproximación de campo medio ($\\langle n^2 \\rangle \\approx  \\langle n \\rangle^2$) la ecuación diferencia que gobierna la evolución de la densidad $\\phi$ es\n",
    "\n",
    "$$\\frac{d\\phi}{dt} = \\frac{up_\\alpha}{N} + \\left(\\frac{(1-u)p_\\nu}{N-1}  - \\frac{u(p_\\alpha + p_\\mu)}{N} \\right) \\phi - \\frac{(1-u) p_\\nu}{N-1} \\phi^2$$"
   ]
  },
  {
   "cell_type": "markdown",
   "metadata": {},
   "source": [
    "Podemos preguntarnos la existencia de un equilibrio de este sistema. En tal caso, $\\frac{d\\phi}{dt} = 0$, de modo que\n",
    "\n",
    "$$ 0 = \\phi_{est}^2 + \\left(\\frac{u}{1-u} \\frac{N-1}{N} \\frac{p_\\alpha + p_\\mu}{p_\\nu} - 1\\right) \\phi_{est} - \\frac{u}{1-u}\\frac{N-1}{N} \\frac{p_{\\alpha}}{p_\\nu}$$\n",
    "\n",
    "Sea $K = \\frac{u}{1-u} \\frac{N-1}{N} \\frac{p_\\mu}{p_\\nu}$, de modo que\n",
    "\n",
    "$$0 = \\phi_{est}^2 + \\left(K(1+\\frac{p_\\alpha}{p_\\nu}) - 1\\right) \\phi_{est} - K\\frac{p_\\alpha}{p_\\nu}$$\n",
    "\n",
    "$$\\Rightarrow \\phi_{est} = - \\frac{1}{2}\\left(K(1+\\frac{p_\\alpha}{p_\\nu}) - 1\\right) + \\frac{1}{2} \\sqrt{\\left(K(1+\\frac{p_\\alpha}{p_\\nu}) - 1\\right)^2 + 4K\\frac{p_\\alpha}{p_\\nu}},$$\n",
    "\n",
    "pues $\\phi_{est} > 0$.\n",
    "\n",
    "Acá se puede hacer un Taylor con $\\frac{p_\\alpha}{p_\\nu} \\ll 1$."
   ]
  },
  {
   "cell_type": "markdown",
   "metadata": {},
   "source": [
    "### Simulación numérica"
   ]
  },
  {
   "cell_type": "markdown",
   "metadata": {},
   "source": [
    "Haremos una simulación numérica en `Python`. Para ello,  "
   ]
  },
  {
   "cell_type": "markdown",
   "metadata": {},
   "source": []
  }
 ],
 "metadata": {
  "kernelspec": {
   "display_name": "maestria",
   "language": "python",
   "name": "python3"
  },
  "language_info": {
   "name": "python",
   "version": "3.12.4"
  }
 },
 "nbformat": 4,
 "nbformat_minor": 2
}
